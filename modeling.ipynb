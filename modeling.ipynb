{
 "cells": [
  {
   "cell_type": "code",
   "execution_count": 1,
   "id": "9eb00fb3-8272-42d8-82da-b2ac98216e42",
   "metadata": {
    "tags": []
   },
   "outputs": [],
   "source": [
    "import math\n",
    "import pandas as pd\n",
    "import numpy as np\n",
    "import matplotlib.pyplot as plt\n",
    "from mpl_toolkits.mplot3d import Axes3D\n",
    "import seaborn as sns\n",
    "from tqdm import tqdm\n",
    "from scipy.stats import chi2_contingency\n",
    "from scipy.stats.contingency import association\n",
    "\n",
    "from sklearn.preprocessing import *\n",
    "from sklearn.model_selection import train_test_split\n",
    "from sklearn.metrics import f1_score, confusion_matrix\n",
    "from catboost import CatBoostClassifier, Pool\n",
    "\n",
    "from imblearn.under_sampling import RandomUnderSampler\n",
    "\n",
    "import optuna\n",
    "import random\n",
    "random.seed(42)\n",
    "random_seed = 42\n",
    "\n",
    "import warnings\n",
    "warnings.filterwarnings('ignore')\n",
    "\n",
    "plt.rcParams['font.family'] = 'Malgun Gothic'"
   ]
  },
  {
   "cell_type": "code",
   "execution_count": 2,
   "id": "0ed41648-719e-44dc-88c0-b9d8e52fd3b8",
   "metadata": {},
   "outputs": [],
   "source": [
    "df = pd.read_csv('./train.csv', encoding='UTF-8')"
   ]
  },
  {
   "cell_type": "markdown",
   "id": "44270721-5cbb-4816-98ba-6c5911ead53d",
   "metadata": {},
   "source": [
    "## Catboost를 통한 분류 모델"
   ]
  },
  {
   "cell_type": "code",
   "execution_count": 3,
   "id": "75636ebd-2b2c-4a43-9193-e5c171928994",
   "metadata": {},
   "outputs": [],
   "source": [
    "# 전처리 결과 '소관경찰서','범죄발생지','사건발생거리' 변수만 TARGET과 유의미한 상관관계를 가짐\n",
    "df_ = df[['소관경찰서', '범죄발생지','사건발생거리']].copy()\n",
    "encoder = LabelEncoder()\n",
    "df_['범죄발생지'] = encoder.fit_transform(df_['범죄발생지'])\n",
    "target = df['TARGET'].copy()\n",
    "trainx, testx, trainy, testy = train_test_split(df_, target, test_size=.2, random_state=42)"
   ]
  },
  {
   "cell_type": "code",
   "execution_count": 4,
   "id": "7c049393-880d-4966-aaa1-d21d91ef0c78",
   "metadata": {},
   "outputs": [
    {
     "name": "stdout",
     "output_type": "stream",
     "text": [
      "[[5352  899 1040]\n",
      " [1963 2310  862]\n",
      " [2021  710 1725]]\n",
      "f1 score: 0.5269552018349899\n",
      "                0\n",
      "소관경찰서   34.880432\n",
      "범죄발생지   49.479933\n",
      "사건발생거리  15.639635\n"
     ]
    }
   ],
   "source": [
    "model = CatBoostClassifier(verbose=False)\n",
    "model.fit(trainx, trainy)\n",
    "pred = model.predict(testx)\n",
    "print(confusion_matrix(testy,pred))\n",
    "print(f\"f1 score: {f1_score(testy, pred, average='macro')}\")\n",
    "print(pd.DataFrame(model.get_feature_importance(), index=df_.columns))"
   ]
  },
  {
   "cell_type": "markdown",
   "id": "db5d4d83-cbe7-4868-933f-676292076a73",
   "metadata": {},
   "source": [
    "## 하이퍼파라미터 최적화"
   ]
  },
  {
   "cell_type": "code",
   "execution_count": 5,
   "id": "f16a0818-8f65-40d3-a288-9719219b2fa4",
   "metadata": {},
   "outputs": [],
   "source": [
    "def objective(trial):\n",
    "    model = CatBoostClassifier(\n",
    "        iterations=trial.suggest_int(\"iterations\", 500, 2000),\n",
    "        learning_rate=trial.suggest_float(\"learning_rate\", 1e-3, 1e-1, log=True),\n",
    "        depth=trial.suggest_int(\"depth\", 4, 10),\n",
    "        l2_leaf_reg=trial.suggest_float(\"l2_leaf_reg\", 1e-8, 100.0, log=True),\n",
    "        bootstrap_type=trial.suggest_categorical(\"bootstrap_type\", [\"Bayesian\"]),\n",
    "        random_strength=trial.suggest_float(\"random_strength\", 1e-8, 10.0, log=True),\n",
    "        bagging_temperature=trial.suggest_float(\"bagging_temperature\", 0.0, 10.0),\n",
    "        od_type=trial.suggest_categorical(\"od_type\", [\"IncToDec\", \"Iter\"]),\n",
    "        od_wait=trial.suggest_int(\"od_wait\", 10, 50),\n",
    "        random_seed=42,\n",
    "        verbose=False\n",
    "    )\n",
    "    model.fit(trainx, trainy)\n",
    "    pred = model.predict(testx)\n",
    "    return f1_score(testy, pred, average='macro')"
   ]
  },
  {
   "cell_type": "code",
   "execution_count": 6,
   "id": "941d4839-99b7-4d94-9154-397987748fb6",
   "metadata": {
    "tags": []
   },
   "outputs": [],
   "source": [
    "optuna.logging.set_verbosity(optuna.logging.WARNING)\n",
    "\n",
    "sampler = optuna.samplers.TPESampler(seed=42)\n",
    "study = optuna.create_study(study_name=\"catboost\", direction=\"maximize\", sampler=sampler)\n",
    "study.optimize(objective, n_trials=100)"
   ]
  },
  {
   "cell_type": "code",
   "execution_count": 7,
   "id": "fa3bbe8f-8c5a-4110-a606-49986a6db4a8",
   "metadata": {},
   "outputs": [
    {
     "name": "stdout",
     "output_type": "stream",
     "text": [
      "Number of finished trials:  100\n",
      "Best trial:\n",
      "  Value:  0.5307711548292552\n",
      "  Params: \n",
      "    iterations: 1447\n",
      "    learning_rate: 0.03906611024058157\n",
      "    depth: 7\n",
      "    l2_leaf_reg: 3.127390407286506e-07\n",
      "    bootstrap_type: Bayesian\n",
      "    random_strength: 0.04166945670743934\n",
      "    bagging_temperature: 0.001916137823568892\n",
      "    od_type: Iter\n",
      "    od_wait: 15\n"
     ]
    }
   ],
   "source": [
    "print(\"Number of finished trials: \", len(study.trials))\n",
    "print(\"Best trial:\")\n",
    "trial = study.best_trial\n",
    "print(\"  Value: \", trial.value)\n",
    "print(\"  Params: \")\n",
    "for key, value in trial.params.items():\n",
    "    print(\"    {}: {}\".format(key, value))"
   ]
  },
  {
   "cell_type": "code",
   "execution_count": 8,
   "id": "95bab9e4-bf84-4317-a523-db7525052157",
   "metadata": {},
   "outputs": [
    {
     "name": "stdout",
     "output_type": "stream",
     "text": [
      "[[5344  878 1069]\n",
      " [1931 2335  869]\n",
      " [2008  696 1752]]\n",
      "f1 score: 0.530459886394124\n",
      "                0\n",
      "소관경찰서   35.685160\n",
      "범죄발생지   43.329848\n",
      "사건발생거리  20.984992\n"
     ]
    }
   ],
   "source": [
    "model = CatBoostClassifier(**trial.params, verbose=False)\n",
    "model.fit(trainx, trainy)\n",
    "pred = model.predict(testx)\n",
    "print(confusion_matrix(testy,pred))\n",
    "print(f\"f1 score: {f1_score(testy, pred, average='macro')}\")\n",
    "print(pd.DataFrame(model.get_feature_importance(), index=df_.columns))"
   ]
  },
  {
   "cell_type": "code",
   "execution_count": 11,
   "id": "49177847-31e5-4261-b195-c2a7541cb64e",
   "metadata": {},
   "outputs": [],
   "source": [
    "testdf = pd.read_csv('./test.csv', encoding='UTF-8')[['소관경찰서','범죄발생지','사건발생거리']]\n",
    "answersheet = pd.read_csv('./sample_submission.csv', encoding='UTF-8')\n",
    "\n",
    "testdf['범죄발생지'] = encoder.transform(testdf['범죄발생지'])\n",
    "\n",
    "answersheet['TARGET'] = model.predict(testdf)\n",
    "answersheet.to_csv('./CatBoost_with_optuna.csv', encoding='UTF-8', index=False)"
   ]
  }
 ],
 "metadata": {
  "kernelspec": {
   "display_name": "Python 3 (ipykernel)",
   "language": "python",
   "name": "python3"
  },
  "language_info": {
   "codemirror_mode": {
    "name": "ipython",
    "version": 3
   },
   "file_extension": ".py",
   "mimetype": "text/x-python",
   "name": "python",
   "nbconvert_exporter": "python",
   "pygments_lexer": "ipython3",
   "version": "3.9.12"
  }
 },
 "nbformat": 4,
 "nbformat_minor": 5
}
