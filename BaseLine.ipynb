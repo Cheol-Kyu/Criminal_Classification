{
 "cells": [
  {
   "cell_type": "markdown",
   "id": "52af9cdc-eb6d-4116-a641-586f4bea4c68",
   "metadata": {},
   "source": [
    "- 84406개의 데이터\n",
    "- ID : 샘플 별 고유 id\n",
    "- 월 : 사건 발생월\n",
    "- 요일 : 월요일 ~ 일요일\n",
    "- 시간 : 사건 발생 시각\n",
    "- 소관경찰서 : 사건 발생 구역의 담당 경찰서\n",
    "- 소관지역 : 사건 발생 구역\n",
    "- 사건발생거리 : 가장 가까운 경찰서에서 사건 현장까지의 거리\n",
    "- 강수량(mm) \n",
    "- 강설량(mm)\n",
    "- 적설량(cm) \n",
    "- 풍향 : 범죄발생지에서 바람이 부는 방향(최대 360도)\n",
    "- 안개 : 가시거리가 1km 미만인 경우\n",
    "- 짙은안개 : 가시거리가 200m 미만인 경우\n",
    "- 번개\n",
    "- 진눈깨비\n",
    "- 서리\n",
    "- 연기/연무 : 먼지, 연기가 하늘을 가리는 현상\n",
    "- 눈날림\n",
    "- 범죄발생지 : 범죄가 발생한 장소\n",
    "- TARGET : 범죄타입 [0 : 강도, 1: 절도, 2: 상해]"
   ]
  },
  {
   "cell_type": "code",
   "execution_count": 1,
   "id": "f556a57c-94e1-445a-b427-7b4713831a13",
   "metadata": {},
   "outputs": [],
   "source": [
    "import random\n",
    "import pandas as pd\n",
    "import numpy as np\n",
    "import matplotlib.pyplot as plt\n",
    "from tqdm import tqdm\n",
    "\n",
    "from sklearn.preprocessing import *\n",
    "from sklearn.feature_selection import *\n",
    "from sklearn.model_selection import train_test_split\n",
    "from sklearn.linear_model import LogisticRegression\n",
    "from scipy.special import softmax\n",
    "from sklearn.ensemble import RandomForestClassifier\n",
    "from sklearn.neighbors import KNeighborsClassifier\n",
    "from sklearn.metrics import f1_score"
   ]
  },
  {
   "cell_type": "code",
   "execution_count": 2,
   "id": "72fa16cb-6364-4731-8efe-1c7e9ae5e36a",
   "metadata": {},
   "outputs": [],
   "source": [
    "np.random.seed(42)"
   ]
  },
  {
   "cell_type": "code",
   "execution_count": 12,
   "id": "2afbd35d-ef03-4206-8c44-fd6f8cac1031",
   "metadata": {},
   "outputs": [],
   "source": [
    "df = pd.read_csv('./train.csv', encoding='UTF-8')"
   ]
  },
  {
   "cell_type": "code",
   "execution_count": 13,
   "id": "24bfb80d-ae20-4d26-96cc-e717e196a1d6",
   "metadata": {},
   "outputs": [
    {
     "data": {
      "text/html": [
       "<div>\n",
       "<style scoped>\n",
       "    .dataframe tbody tr th:only-of-type {\n",
       "        vertical-align: middle;\n",
       "    }\n",
       "\n",
       "    .dataframe tbody tr th {\n",
       "        vertical-align: top;\n",
       "    }\n",
       "\n",
       "    .dataframe thead th {\n",
       "        text-align: right;\n",
       "    }\n",
       "</style>\n",
       "<table border=\"1\" class=\"dataframe\">\n",
       "  <thead>\n",
       "    <tr style=\"text-align: right;\">\n",
       "      <th></th>\n",
       "      <th>ID</th>\n",
       "      <th>월</th>\n",
       "      <th>요일</th>\n",
       "      <th>시간</th>\n",
       "      <th>소관경찰서</th>\n",
       "      <th>소관지역</th>\n",
       "      <th>사건발생거리</th>\n",
       "      <th>강수량(mm)</th>\n",
       "      <th>강설량(mm)</th>\n",
       "      <th>적설량(cm)</th>\n",
       "      <th>풍향</th>\n",
       "      <th>안개</th>\n",
       "      <th>짙은안개</th>\n",
       "      <th>번개</th>\n",
       "      <th>진눈깨비</th>\n",
       "      <th>서리</th>\n",
       "      <th>연기/연무</th>\n",
       "      <th>눈날림</th>\n",
       "      <th>범죄발생지</th>\n",
       "      <th>TARGET</th>\n",
       "    </tr>\n",
       "  </thead>\n",
       "  <tbody>\n",
       "    <tr>\n",
       "      <th>0</th>\n",
       "      <td>TRAIN_00000</td>\n",
       "      <td>9</td>\n",
       "      <td>화요일</td>\n",
       "      <td>10</td>\n",
       "      <td>137</td>\n",
       "      <td>8.0</td>\n",
       "      <td>2.611124</td>\n",
       "      <td>0.0</td>\n",
       "      <td>0.0</td>\n",
       "      <td>0.0</td>\n",
       "      <td>245.0</td>\n",
       "      <td>0.0</td>\n",
       "      <td>0.0</td>\n",
       "      <td>0.0</td>\n",
       "      <td>0.0</td>\n",
       "      <td>0.0</td>\n",
       "      <td>0.0</td>\n",
       "      <td>0.0</td>\n",
       "      <td>차도</td>\n",
       "      <td>2</td>\n",
       "    </tr>\n",
       "    <tr>\n",
       "      <th>1</th>\n",
       "      <td>TRAIN_00001</td>\n",
       "      <td>11</td>\n",
       "      <td>화요일</td>\n",
       "      <td>6</td>\n",
       "      <td>438</td>\n",
       "      <td>13.0</td>\n",
       "      <td>3.209093</td>\n",
       "      <td>0.0</td>\n",
       "      <td>0.0</td>\n",
       "      <td>0.0</td>\n",
       "      <td>200.0</td>\n",
       "      <td>0.0</td>\n",
       "      <td>0.0</td>\n",
       "      <td>0.0</td>\n",
       "      <td>0.0</td>\n",
       "      <td>0.0</td>\n",
       "      <td>0.0</td>\n",
       "      <td>0.0</td>\n",
       "      <td>차도</td>\n",
       "      <td>0</td>\n",
       "    </tr>\n",
       "    <tr>\n",
       "      <th>2</th>\n",
       "      <td>TRAIN_00002</td>\n",
       "      <td>8</td>\n",
       "      <td>일요일</td>\n",
       "      <td>6</td>\n",
       "      <td>1729</td>\n",
       "      <td>47.0</td>\n",
       "      <td>1.619597</td>\n",
       "      <td>0.0</td>\n",
       "      <td>0.0</td>\n",
       "      <td>0.0</td>\n",
       "      <td>40.0</td>\n",
       "      <td>1.0</td>\n",
       "      <td>0.0</td>\n",
       "      <td>0.0</td>\n",
       "      <td>0.0</td>\n",
       "      <td>0.0</td>\n",
       "      <td>1.0</td>\n",
       "      <td>0.0</td>\n",
       "      <td>인도</td>\n",
       "      <td>1</td>\n",
       "    </tr>\n",
       "  </tbody>\n",
       "</table>\n",
       "</div>"
      ],
      "text/plain": [
       "            ID   월   요일  시간  소관경찰서  소관지역    사건발생거리  강수량(mm)  강설량(mm)  적설량(cm)  \\\n",
       "0  TRAIN_00000   9  화요일  10    137   8.0  2.611124      0.0      0.0      0.0   \n",
       "1  TRAIN_00001  11  화요일   6    438  13.0  3.209093      0.0      0.0      0.0   \n",
       "2  TRAIN_00002   8  일요일   6   1729  47.0  1.619597      0.0      0.0      0.0   \n",
       "\n",
       "      풍향   안개  짙은안개   번개  진눈깨비   서리  연기/연무  눈날림 범죄발생지  TARGET  \n",
       "0  245.0  0.0   0.0  0.0   0.0  0.0    0.0  0.0    차도       2  \n",
       "1  200.0  0.0   0.0  0.0   0.0  0.0    0.0  0.0    차도       0  \n",
       "2   40.0  1.0   0.0  0.0   0.0  0.0    1.0  0.0    인도       1  "
      ]
     },
     "execution_count": 13,
     "metadata": {},
     "output_type": "execute_result"
    }
   ],
   "source": [
    "df.head(3)"
   ]
  },
  {
   "cell_type": "code",
   "execution_count": 14,
   "id": "bc876897-4af6-4d67-9abb-b8ade3c64805",
   "metadata": {
    "tags": []
   },
   "outputs": [
    {
     "data": {
      "text/html": [
       "<div>\n",
       "<style scoped>\n",
       "    .dataframe tbody tr th:only-of-type {\n",
       "        vertical-align: middle;\n",
       "    }\n",
       "\n",
       "    .dataframe tbody tr th {\n",
       "        vertical-align: top;\n",
       "    }\n",
       "\n",
       "    .dataframe thead th {\n",
       "        text-align: right;\n",
       "    }\n",
       "</style>\n",
       "<table border=\"1\" class=\"dataframe\">\n",
       "  <thead>\n",
       "    <tr style=\"text-align: right;\">\n",
       "      <th></th>\n",
       "      <th>월</th>\n",
       "      <th>시간</th>\n",
       "      <th>소관경찰서</th>\n",
       "      <th>소관지역</th>\n",
       "      <th>사건발생거리</th>\n",
       "      <th>강수량(mm)</th>\n",
       "      <th>강설량(mm)</th>\n",
       "      <th>적설량(cm)</th>\n",
       "      <th>풍향</th>\n",
       "      <th>안개</th>\n",
       "      <th>짙은안개</th>\n",
       "      <th>번개</th>\n",
       "      <th>진눈깨비</th>\n",
       "      <th>서리</th>\n",
       "      <th>연기/연무</th>\n",
       "      <th>눈날림</th>\n",
       "      <th>TARGET</th>\n",
       "    </tr>\n",
       "  </thead>\n",
       "  <tbody>\n",
       "    <tr>\n",
       "      <th>count</th>\n",
       "      <td>84406.000000</td>\n",
       "      <td>84406.000000</td>\n",
       "      <td>84406.000000</td>\n",
       "      <td>84406.000000</td>\n",
       "      <td>84406.000000</td>\n",
       "      <td>84406.000000</td>\n",
       "      <td>84406.000000</td>\n",
       "      <td>84406.000000</td>\n",
       "      <td>84406.000000</td>\n",
       "      <td>84406.000000</td>\n",
       "      <td>84406.000000</td>\n",
       "      <td>84406.000000</td>\n",
       "      <td>84406.000000</td>\n",
       "      <td>84406.000000</td>\n",
       "      <td>84406.000000</td>\n",
       "      <td>84406.000000</td>\n",
       "      <td>84406.000000</td>\n",
       "    </tr>\n",
       "    <tr>\n",
       "      <th>mean</th>\n",
       "      <td>6.430195</td>\n",
       "      <td>6.769507</td>\n",
       "      <td>1060.027581</td>\n",
       "      <td>26.881726</td>\n",
       "      <td>1.912424</td>\n",
       "      <td>24.608776</td>\n",
       "      <td>2.284407</td>\n",
       "      <td>23.430503</td>\n",
       "      <td>186.926107</td>\n",
       "      <td>0.385423</td>\n",
       "      <td>0.017842</td>\n",
       "      <td>0.144042</td>\n",
       "      <td>0.020330</td>\n",
       "      <td>0.010260</td>\n",
       "      <td>0.210755</td>\n",
       "      <td>0.008921</td>\n",
       "      <td>0.835355</td>\n",
       "    </tr>\n",
       "    <tr>\n",
       "      <th>std</th>\n",
       "      <td>3.108302</td>\n",
       "      <td>3.566390</td>\n",
       "      <td>698.380485</td>\n",
       "      <td>13.870968</td>\n",
       "      <td>0.958556</td>\n",
       "      <td>62.711211</td>\n",
       "      <td>15.852881</td>\n",
       "      <td>85.199896</td>\n",
       "      <td>98.299485</td>\n",
       "      <td>0.486698</td>\n",
       "      <td>0.132379</td>\n",
       "      <td>0.351134</td>\n",
       "      <td>0.141128</td>\n",
       "      <td>0.100771</td>\n",
       "      <td>0.407847</td>\n",
       "      <td>0.094030</td>\n",
       "      <td>0.819762</td>\n",
       "    </tr>\n",
       "    <tr>\n",
       "      <th>min</th>\n",
       "      <td>1.000000</td>\n",
       "      <td>1.000000</td>\n",
       "      <td>26.000000</td>\n",
       "      <td>5.000000</td>\n",
       "      <td>0.012269</td>\n",
       "      <td>0.000000</td>\n",
       "      <td>0.000000</td>\n",
       "      <td>0.000000</td>\n",
       "      <td>10.000000</td>\n",
       "      <td>0.000000</td>\n",
       "      <td>0.000000</td>\n",
       "      <td>0.000000</td>\n",
       "      <td>0.000000</td>\n",
       "      <td>0.000000</td>\n",
       "      <td>0.000000</td>\n",
       "      <td>0.000000</td>\n",
       "      <td>0.000000</td>\n",
       "    </tr>\n",
       "    <tr>\n",
       "      <th>25%</th>\n",
       "      <td>4.000000</td>\n",
       "      <td>4.000000</td>\n",
       "      <td>526.000000</td>\n",
       "      <td>13.000000</td>\n",
       "      <td>1.209985</td>\n",
       "      <td>0.000000</td>\n",
       "      <td>0.000000</td>\n",
       "      <td>0.000000</td>\n",
       "      <td>95.000000</td>\n",
       "      <td>0.000000</td>\n",
       "      <td>0.000000</td>\n",
       "      <td>0.000000</td>\n",
       "      <td>0.000000</td>\n",
       "      <td>0.000000</td>\n",
       "      <td>0.000000</td>\n",
       "      <td>0.000000</td>\n",
       "      <td>0.000000</td>\n",
       "    </tr>\n",
       "    <tr>\n",
       "      <th>50%</th>\n",
       "      <td>7.000000</td>\n",
       "      <td>7.000000</td>\n",
       "      <td>937.000000</td>\n",
       "      <td>27.000000</td>\n",
       "      <td>1.822279</td>\n",
       "      <td>0.625000</td>\n",
       "      <td>0.000000</td>\n",
       "      <td>0.000000</td>\n",
       "      <td>205.000000</td>\n",
       "      <td>0.000000</td>\n",
       "      <td>0.000000</td>\n",
       "      <td>0.000000</td>\n",
       "      <td>0.000000</td>\n",
       "      <td>0.000000</td>\n",
       "      <td>0.000000</td>\n",
       "      <td>0.000000</td>\n",
       "      <td>1.000000</td>\n",
       "    </tr>\n",
       "    <tr>\n",
       "      <th>75%</th>\n",
       "      <td>9.000000</td>\n",
       "      <td>10.000000</td>\n",
       "      <td>1638.000000</td>\n",
       "      <td>38.000000</td>\n",
       "      <td>2.476528</td>\n",
       "      <td>18.571429</td>\n",
       "      <td>0.000000</td>\n",
       "      <td>0.000000</td>\n",
       "      <td>260.000000</td>\n",
       "      <td>1.000000</td>\n",
       "      <td>0.000000</td>\n",
       "      <td>0.000000</td>\n",
       "      <td>0.000000</td>\n",
       "      <td>0.000000</td>\n",
       "      <td>0.000000</td>\n",
       "      <td>0.000000</td>\n",
       "      <td>2.000000</td>\n",
       "    </tr>\n",
       "    <tr>\n",
       "      <th>max</th>\n",
       "      <td>12.000000</td>\n",
       "      <td>12.000000</td>\n",
       "      <td>2450.000000</td>\n",
       "      <td>54.000000</td>\n",
       "      <td>4.998936</td>\n",
       "      <td>614.875000</td>\n",
       "      <td>295.000000</td>\n",
       "      <td>649.800000</td>\n",
       "      <td>360.000000</td>\n",
       "      <td>1.000000</td>\n",
       "      <td>1.000000</td>\n",
       "      <td>1.000000</td>\n",
       "      <td>1.000000</td>\n",
       "      <td>1.000000</td>\n",
       "      <td>1.000000</td>\n",
       "      <td>1.000000</td>\n",
       "      <td>2.000000</td>\n",
       "    </tr>\n",
       "  </tbody>\n",
       "</table>\n",
       "</div>"
      ],
      "text/plain": [
       "                  월            시간         소관경찰서          소관지역        사건발생거리  \\\n",
       "count  84406.000000  84406.000000  84406.000000  84406.000000  84406.000000   \n",
       "mean       6.430195      6.769507   1060.027581     26.881726      1.912424   \n",
       "std        3.108302      3.566390    698.380485     13.870968      0.958556   \n",
       "min        1.000000      1.000000     26.000000      5.000000      0.012269   \n",
       "25%        4.000000      4.000000    526.000000     13.000000      1.209985   \n",
       "50%        7.000000      7.000000    937.000000     27.000000      1.822279   \n",
       "75%        9.000000     10.000000   1638.000000     38.000000      2.476528   \n",
       "max       12.000000     12.000000   2450.000000     54.000000      4.998936   \n",
       "\n",
       "            강수량(mm)       강설량(mm)       적설량(cm)            풍향            안개  \\\n",
       "count  84406.000000  84406.000000  84406.000000  84406.000000  84406.000000   \n",
       "mean      24.608776      2.284407     23.430503    186.926107      0.385423   \n",
       "std       62.711211     15.852881     85.199896     98.299485      0.486698   \n",
       "min        0.000000      0.000000      0.000000     10.000000      0.000000   \n",
       "25%        0.000000      0.000000      0.000000     95.000000      0.000000   \n",
       "50%        0.625000      0.000000      0.000000    205.000000      0.000000   \n",
       "75%       18.571429      0.000000      0.000000    260.000000      1.000000   \n",
       "max      614.875000    295.000000    649.800000    360.000000      1.000000   \n",
       "\n",
       "               짙은안개            번개          진눈깨비            서리         연기/연무  \\\n",
       "count  84406.000000  84406.000000  84406.000000  84406.000000  84406.000000   \n",
       "mean       0.017842      0.144042      0.020330      0.010260      0.210755   \n",
       "std        0.132379      0.351134      0.141128      0.100771      0.407847   \n",
       "min        0.000000      0.000000      0.000000      0.000000      0.000000   \n",
       "25%        0.000000      0.000000      0.000000      0.000000      0.000000   \n",
       "50%        0.000000      0.000000      0.000000      0.000000      0.000000   \n",
       "75%        0.000000      0.000000      0.000000      0.000000      0.000000   \n",
       "max        1.000000      1.000000      1.000000      1.000000      1.000000   \n",
       "\n",
       "                눈날림        TARGET  \n",
       "count  84406.000000  84406.000000  \n",
       "mean       0.008921      0.835355  \n",
       "std        0.094030      0.819762  \n",
       "min        0.000000      0.000000  \n",
       "25%        0.000000      0.000000  \n",
       "50%        0.000000      1.000000  \n",
       "75%        0.000000      2.000000  \n",
       "max        1.000000      2.000000  "
      ]
     },
     "execution_count": 14,
     "metadata": {},
     "output_type": "execute_result"
    }
   ],
   "source": [
    "df.describe()"
   ]
  },
  {
   "cell_type": "code",
   "execution_count": 15,
   "id": "bda7c40d-1d49-4131-aadb-eec4481b960a",
   "metadata": {},
   "outputs": [
    {
     "name": "stderr",
     "output_type": "stream",
     "text": [
      "D:\\anaconda3\\lib\\site-packages\\sklearn\\preprocessing\\_label.py:115: DataConversionWarning: A column-vector y was passed when a 1d array was expected. Please change the shape of y to (n_samples, ), for example using ravel().\n",
      "  y = column_or_1d(y, warn=True)\n",
      "D:\\anaconda3\\lib\\site-packages\\sklearn\\preprocessing\\_label.py:115: DataConversionWarning: A column-vector y was passed when a 1d array was expected. Please change the shape of y to (n_samples, ), for example using ravel().\n",
      "  y = column_or_1d(y, warn=True)\n"
     ]
    }
   ],
   "source": [
    "encoder = LabelEncoder()\n",
    "df['요일'] = encoder.fit_transform(df[['요일']])\n",
    "encoder = LabelEncoder()\n",
    "df['범죄발생지'] = encoder.fit_transform(df[['범죄발생지']])"
   ]
  },
  {
   "cell_type": "code",
   "execution_count": 16,
   "id": "735616e5-f74c-48b0-b21d-9ee0d22c5253",
   "metadata": {},
   "outputs": [
    {
     "data": {
      "text/html": [
       "<div>\n",
       "<style scoped>\n",
       "    .dataframe tbody tr th:only-of-type {\n",
       "        vertical-align: middle;\n",
       "    }\n",
       "\n",
       "    .dataframe tbody tr th {\n",
       "        vertical-align: top;\n",
       "    }\n",
       "\n",
       "    .dataframe thead th {\n",
       "        text-align: right;\n",
       "    }\n",
       "</style>\n",
       "<table border=\"1\" class=\"dataframe\">\n",
       "  <thead>\n",
       "    <tr style=\"text-align: right;\">\n",
       "      <th></th>\n",
       "      <th>ID</th>\n",
       "      <th>월</th>\n",
       "      <th>요일</th>\n",
       "      <th>시간</th>\n",
       "      <th>소관경찰서</th>\n",
       "      <th>소관지역</th>\n",
       "      <th>사건발생거리</th>\n",
       "      <th>강수량(mm)</th>\n",
       "      <th>강설량(mm)</th>\n",
       "      <th>적설량(cm)</th>\n",
       "      <th>풍향</th>\n",
       "      <th>안개</th>\n",
       "      <th>짙은안개</th>\n",
       "      <th>번개</th>\n",
       "      <th>진눈깨비</th>\n",
       "      <th>서리</th>\n",
       "      <th>연기/연무</th>\n",
       "      <th>눈날림</th>\n",
       "      <th>범죄발생지</th>\n",
       "      <th>TARGET</th>\n",
       "    </tr>\n",
       "  </thead>\n",
       "  <tbody>\n",
       "    <tr>\n",
       "      <th>0</th>\n",
       "      <td>TRAIN_00000</td>\n",
       "      <td>9</td>\n",
       "      <td>6</td>\n",
       "      <td>10</td>\n",
       "      <td>137</td>\n",
       "      <td>8.0</td>\n",
       "      <td>2.611124</td>\n",
       "      <td>0.0</td>\n",
       "      <td>0.0</td>\n",
       "      <td>0.0</td>\n",
       "      <td>245.0</td>\n",
       "      <td>0.0</td>\n",
       "      <td>0.0</td>\n",
       "      <td>0.0</td>\n",
       "      <td>0.0</td>\n",
       "      <td>0.0</td>\n",
       "      <td>0.0</td>\n",
       "      <td>0.0</td>\n",
       "      <td>10</td>\n",
       "      <td>2</td>\n",
       "    </tr>\n",
       "    <tr>\n",
       "      <th>1</th>\n",
       "      <td>TRAIN_00001</td>\n",
       "      <td>11</td>\n",
       "      <td>6</td>\n",
       "      <td>6</td>\n",
       "      <td>438</td>\n",
       "      <td>13.0</td>\n",
       "      <td>3.209093</td>\n",
       "      <td>0.0</td>\n",
       "      <td>0.0</td>\n",
       "      <td>0.0</td>\n",
       "      <td>200.0</td>\n",
       "      <td>0.0</td>\n",
       "      <td>0.0</td>\n",
       "      <td>0.0</td>\n",
       "      <td>0.0</td>\n",
       "      <td>0.0</td>\n",
       "      <td>0.0</td>\n",
       "      <td>0.0</td>\n",
       "      <td>10</td>\n",
       "      <td>0</td>\n",
       "    </tr>\n",
       "    <tr>\n",
       "      <th>2</th>\n",
       "      <td>TRAIN_00002</td>\n",
       "      <td>8</td>\n",
       "      <td>4</td>\n",
       "      <td>6</td>\n",
       "      <td>1729</td>\n",
       "      <td>47.0</td>\n",
       "      <td>1.619597</td>\n",
       "      <td>0.0</td>\n",
       "      <td>0.0</td>\n",
       "      <td>0.0</td>\n",
       "      <td>40.0</td>\n",
       "      <td>1.0</td>\n",
       "      <td>0.0</td>\n",
       "      <td>0.0</td>\n",
       "      <td>0.0</td>\n",
       "      <td>0.0</td>\n",
       "      <td>1.0</td>\n",
       "      <td>0.0</td>\n",
       "      <td>6</td>\n",
       "      <td>1</td>\n",
       "    </tr>\n",
       "  </tbody>\n",
       "</table>\n",
       "</div>"
      ],
      "text/plain": [
       "            ID   월  요일  시간  소관경찰서  소관지역    사건발생거리  강수량(mm)  강설량(mm)  적설량(cm)  \\\n",
       "0  TRAIN_00000   9   6  10    137   8.0  2.611124      0.0      0.0      0.0   \n",
       "1  TRAIN_00001  11   6   6    438  13.0  3.209093      0.0      0.0      0.0   \n",
       "2  TRAIN_00002   8   4   6   1729  47.0  1.619597      0.0      0.0      0.0   \n",
       "\n",
       "      풍향   안개  짙은안개   번개  진눈깨비   서리  연기/연무  눈날림  범죄발생지  TARGET  \n",
       "0  245.0  0.0   0.0  0.0   0.0  0.0    0.0  0.0     10       2  \n",
       "1  200.0  0.0   0.0  0.0   0.0  0.0    0.0  0.0     10       0  \n",
       "2   40.0  1.0   0.0  0.0   0.0  0.0    1.0  0.0      6       1  "
      ]
     },
     "execution_count": 16,
     "metadata": {},
     "output_type": "execute_result"
    }
   ],
   "source": [
    "df.head(3)"
   ]
  },
  {
   "cell_type": "code",
   "execution_count": 393,
   "id": "7855838f-add3-4990-a0e4-6cdbfa134c16",
   "metadata": {},
   "outputs": [],
   "source": [
    "trainx, testx, trainy, testy = train_test_split(df.iloc[:,1:-1], df['TARGET'], random_state=42)"
   ]
  },
  {
   "cell_type": "code",
   "execution_count": 30,
   "id": "4281b007-afda-4d36-bac2-eec0dcf88dad",
   "metadata": {},
   "outputs": [
    {
     "name": "stdout",
     "output_type": "stream",
     "text": [
      "0.527580324139892\n",
      "0.4979727264775253\n",
      "CPU times: total: 14.7 s\n",
      "Wall time: 14.7 s\n"
     ]
    }
   ],
   "source": [
    "%%time\n",
    "rf = RandomForestClassifier(criterion='gini', random_state=42)\n",
    "rf.fit(trainx, trainy)\n",
    "print(rf.score(testx, testy))\n",
    "pred = rf.predict(testx)\n",
    "print(f1_score(testy, pred, average='macro'))"
   ]
  },
  {
   "cell_type": "code",
   "execution_count": 31,
   "id": "d1656e62-0a29-4a8a-aba6-a288221a9007",
   "metadata": {},
   "outputs": [
    {
     "name": "stdout",
     "output_type": "stream",
     "text": [
      "0.5255899914700028\n",
      "0.49497460687209216\n",
      "CPU times: total: 17.4 s\n",
      "Wall time: 17.4 s\n"
     ]
    }
   ],
   "source": [
    "%%time\n",
    "rf = RandomForestClassifier(criterion='entropy', random_state=42)\n",
    "rf.fit(trainx, trainy)\n",
    "print(rf.score(testx, testy))\n",
    "pred = rf.predict(testx)\n",
    "print(f1_score(testy, pred, average='macro'))"
   ]
  },
  {
   "cell_type": "code",
   "execution_count": 13,
   "id": "9f8046ca-4859-43b9-82db-4797c49c39f9",
   "metadata": {},
   "outputs": [
    {
     "name": "stderr",
     "output_type": "stream",
     "text": [
      "D:\\anaconda3\\lib\\site-packages\\sklearn\\neighbors\\_classification.py:198: DataConversionWarning: A column-vector y was passed when a 1d array was expected. Please change the shape of y to (n_samples,), for example using ravel().\n",
      "  return self._fit(X, y)\n"
     ]
    },
    {
     "name": "stdout",
     "output_type": "stream",
     "text": [
      "0.446497962278457\n",
      "0.3875223306124567\n",
      "CPU times: total: 1min 31s\n",
      "Wall time: 1min 2s\n"
     ]
    }
   ],
   "source": [
    "%%time\n",
    "knc = KNeighborsClassifier(n_neighbors=20, weights='uniform')\n",
    "knc.fit(trainx, trainy)\n",
    "print(knc.score(testx, testy))\n",
    "pred =knc.predict(testx)\n",
    "print(f1_score(testy, pred, average='macro'))"
   ]
  },
  {
   "cell_type": "code",
   "execution_count": 14,
   "id": "bdab17bd-fa9e-41cf-a2b3-52398d03075c",
   "metadata": {},
   "outputs": [
    {
     "name": "stderr",
     "output_type": "stream",
     "text": [
      "D:\\anaconda3\\lib\\site-packages\\sklearn\\neighbors\\_classification.py:198: DataConversionWarning: A column-vector y was passed when a 1d array was expected. Please change the shape of y to (n_samples,), for example using ravel().\n",
      "  return self._fit(X, y)\n"
     ]
    },
    {
     "name": "stdout",
     "output_type": "stream",
     "text": [
      "0.4404795753956971\n",
      "0.4041979671620212\n",
      "CPU times: total: 1min 28s\n",
      "Wall time: 59.5 s\n"
     ]
    }
   ],
   "source": [
    "%%time\n",
    "knc = KNeighborsClassifier(n_neighbors=20, weights='distance')\n",
    "knc.fit(trainx, trainy)\n",
    "print(knc.score(testx, testy))\n",
    "pred =knc.predict(testx)\n",
    "print(f1_score(testy, pred, average='macro'))"
   ]
  },
  {
   "cell_type": "code",
   "execution_count": 17,
   "id": "1e3eb7ff-5360-47a2-8c3f-f8fbf27e9432",
   "metadata": {
    "tags": []
   },
   "outputs": [
    {
     "name": "stdout",
     "output_type": "stream",
     "text": [
      "0.4440337408776419\n",
      "0.33432676270259587\n",
      "CPU times: total: 1min 54s\n",
      "Wall time: 30.8 s\n"
     ]
    },
    {
     "name": "stderr",
     "output_type": "stream",
     "text": [
      "D:\\anaconda3\\lib\\site-packages\\sklearn\\linear_model\\_logistic.py:814: ConvergenceWarning: lbfgs failed to converge (status=1):\n",
      "STOP: TOTAL NO. of ITERATIONS REACHED LIMIT.\n",
      "\n",
      "Increase the number of iterations (max_iter) or scale the data as shown in:\n",
      "    https://scikit-learn.org/stable/modules/preprocessing.html\n",
      "Please also refer to the documentation for alternative solver options:\n",
      "    https://scikit-learn.org/stable/modules/linear_model.html#logistic-regression\n",
      "  n_iter_i = _check_optimize_result(\n"
     ]
    }
   ],
   "source": [
    "%%time\n",
    "# scaler = MinMaxScaler()\n",
    "# df[['월','요일','소관경찰서','소관지역','사건발생거리', '범죄발생지']] = scaler.fit_transform(df[['월','요일','소관경찰서','소관지역','사건발생거리', '범죄발생지']])\n",
    "trainx, testx, trainy, testy = train_test_split(df.iloc[:,1:-1], df['TARGET'], random_state=42)\n",
    "\n",
    "lr = LogisticRegression(C=20, max_iter=1000)\n",
    "lr.fit(trainx, trainy)\n",
    "print(lr.score(testx, testy))\n",
    "pred = lr.predict(testx)\n",
    "# proba = lr.predict_proba(testx)\n",
    "# decision = lr.decision_function(testx)\n",
    "# proba = softmax(decision, axis=1)\n",
    "print(f1_score(testy, pred, average='macro'))"
   ]
  },
  {
   "cell_type": "code",
   "execution_count": 21,
   "id": "143077e0-ef0e-468e-a65c-d0811762a6b4",
   "metadata": {},
   "outputs": [
    {
     "name": "stdout",
     "output_type": "stream",
     "text": [
      "0.4440337408776419\n",
      "0.33432676270259587\n",
      "CPU times: total: 1min 55s\n",
      "Wall time: 32.8 s\n"
     ]
    },
    {
     "name": "stderr",
     "output_type": "stream",
     "text": [
      "D:\\anaconda3\\lib\\site-packages\\sklearn\\linear_model\\_logistic.py:814: ConvergenceWarning: lbfgs failed to converge (status=1):\n",
      "STOP: TOTAL NO. of ITERATIONS REACHED LIMIT.\n",
      "\n",
      "Increase the number of iterations (max_iter) or scale the data as shown in:\n",
      "    https://scikit-learn.org/stable/modules/preprocessing.html\n",
      "Please also refer to the documentation for alternative solver options:\n",
      "    https://scikit-learn.org/stable/modules/linear_model.html#logistic-regression\n",
      "  n_iter_i = _check_optimize_result(\n"
     ]
    }
   ],
   "source": [
    "%%time\n",
    "# scaler = MinMaxScaler()\n",
    "# df[['월','요일','소관경찰서','소관지역','사건발생거리', '범죄발생지']] = scaler.fit_transform(df[['월','요일','소관경찰서','소관지역','사건발생거리', '범죄발생지']])\n",
    "trainx, testx, trainy, testy = train_test_split(df.iloc[:,1:-1], df['TARGET'], random_state=42)\n",
    "\n",
    "lr = LogisticRegression(C=20, max_iter=1000)\n",
    "lr.fit(trainx, trainy)\n",
    "print(lr.score(testx, testy))\n",
    "pred = lr.predict(testx)\n",
    "# proba = lr.predict_proba(testx)\n",
    "# decision = lr.decision_function(testx)\n",
    "# proba = softmax(decision, axis=1)\n",
    "print(f1_score(testy, pred, average='macro'))"
   ]
  },
  {
   "cell_type": "code",
   "execution_count": 20,
   "id": "05f7085d-df61-45bd-aedd-ab229b855b92",
   "metadata": {},
   "outputs": [
    {
     "name": "stdout",
     "output_type": "stream",
     "text": [
      "0.4615202350488105\n",
      "0.37020443990136287\n",
      "CPU times: total: 3min 43s\n",
      "Wall time: 58.6 s\n"
     ]
    },
    {
     "name": "stderr",
     "output_type": "stream",
     "text": [
      "D:\\anaconda3\\lib\\site-packages\\sklearn\\linear_model\\_logistic.py:814: ConvergenceWarning: lbfgs failed to converge (status=1):\n",
      "STOP: TOTAL NO. of ITERATIONS REACHED LIMIT.\n",
      "\n",
      "Increase the number of iterations (max_iter) or scale the data as shown in:\n",
      "    https://scikit-learn.org/stable/modules/preprocessing.html\n",
      "Please also refer to the documentation for alternative solver options:\n",
      "    https://scikit-learn.org/stable/modules/linear_model.html#logistic-regression\n",
      "  n_iter_i = _check_optimize_result(\n"
     ]
    }
   ],
   "source": [
    "%%time\n",
    "# scaler = MinMaxScaler()\n",
    "# df[['월','요일','소관경찰서','소관지역','사건발생거리', '범죄발생지']] = scaler.fit_transform(df[['월','요일','소관경찰서','소관지역','사건발생거리', '범죄발생지']])\n",
    "trainx, testx, trainy, testy = train_test_split(df.iloc[:,1:-1], df['TARGET'], random_state=42)\n",
    "\n",
    "lr = LogisticRegression(C=1, max_iter=2000)\n",
    "lr.fit(trainx, trainy)\n",
    "print(lr.score(testx, testy))\n",
    "pred = lr.predict(testx)\n",
    "# proba = lr.predict_proba(testx)\n",
    "# decision = lr.decision_function(testx)\n",
    "# proba = softmax(decision, axis=1)\n",
    "print(f1_score(testy, pred, average='macro'))"
   ]
  },
  {
   "cell_type": "code",
   "execution_count": 377,
   "id": "9e2a551b-5807-4bf0-974a-a65ab9714341",
   "metadata": {},
   "outputs": [],
   "source": [
    "class SoftmaxClassification(torch.nn.Module):\n",
    "    def __init__(self, input_size):\n",
    "        super(SoftmaxClassification, self).__init__()\n",
    "        self.input_size = input_size\n",
    "        self.linear1 = torch.nn.Linear(self.input_size, self.input_size, bias=True)\n",
    "        self.relu = torch.nn.ReLU()\n",
    "        self.linear2 = torch.nn.Linear(self.input_size, 3, bias=True)\n",
    "        self.softmax = torch.nn.Softmax()\n",
    "    \n",
    "    def forward(self, input_tensor):\n",
    "        linear1 = self.linear1(input_tensor)\n",
    "        linear1 = self.relu(linear1)\n",
    "        linear2 = self.linear2(linear1)\n",
    "        output = self.softmax(linear2)\n",
    "        return output\n",
    "    \n",
    "x_train = torch.FloatTensor(np.array(trainx))\n",
    "ytrain = torch.LongTensor(np.array(trainy))\n",
    "y_train = torch.zeros(len(ytrain), 3)\n",
    "y_train.scatter_(1, ytrain.unsqueeze(1), 1)\n",
    "\n",
    "x_test = torch.FloatTensor(np.array(testx))\n",
    "ytest = torch.LongTensor(np.array(testy))\n",
    "y_test = torch.zeros(len(ytest), 3)\n",
    "y_test.scatter_(1, ytest.unsqueeze(1), 1)\n",
    "\n",
    "sm = SoftmaxClassification(len(x_train[0]))\n",
    "epochs = 50\n",
    "optimizer = torch.optim.SGD(sm.parameters(), lr=0.01)\n",
    "\n",
    "for epoch in range(epochs+1):\n",
    "    sm.train()\n",
    "    optimizer.zero_grad()\n",
    "    train_output = sm(x_train)\n",
    "    train_loss = F.cross_entropy(train_output.squeeze(), y_train)\n",
    "    train_loss.backward()\n",
    "    optimizer.step()"
   ]
  },
  {
   "cell_type": "code",
   "execution_count": 381,
   "id": "2ddf0882-2981-4074-9ca8-0dd94fbbf070",
   "metadata": {},
   "outputs": [
    {
     "name": "stderr",
     "output_type": "stream",
     "text": [
      "C:\\Users\\ray67\\AppData\\Local\\Temp\\ipykernel_7284\\78874208.py:16: UserWarning: Implicit dimension choice for softmax has been deprecated. Change the call to include dim=X as an argument.\n",
      "  output = self.softmax(linear2)\n"
     ]
    },
    {
     "name": "stdout",
     "output_type": "stream",
     "text": [
      "0.17280541644967298\n"
     ]
    }
   ],
   "source": [
    "x_train = torch.FloatTensor(np.array(trainx))\n",
    "ytrain = torch.LongTensor(np.array(trainy))\n",
    "y_train = torch.zeros(len(ytrain), 3)\n",
    "y_train.scatter_(1, ytrain.unsqueeze(1), 1)\n",
    "\n",
    "x_test = torch.FloatTensor(np.array(testx))\n",
    "ytest = torch.LongTensor(np.array(testy))\n",
    "y_test = torch.zeros(len(ytest), 3)\n",
    "y_test.scatter_(1, ytest.unsqueeze(1), 1)\n",
    "\n",
    "sm = SoftmaxClassification(len(x_train[0]))\n",
    "epochs = 50\n",
    "optimizer = torch.optim.SGD(sm.parameters(), lr=0.01)\n",
    "\n",
    "sm.eval()\n",
    "output = sm(x_test)\n",
    "pred = []\n",
    "for i in range(len(output)):\n",
    "    _ = int((output[i]==max(output[i])).nonzero(as_tuple=True)[0])\n",
    "    pred.append(_)\n",
    "    \n",
    "print(f1_score(testy, pred, average='macro'))"
   ]
  },
  {
   "cell_type": "code",
   "execution_count": 15,
   "id": "9a361656-f556-45b8-a4f4-1ae48e76c886",
   "metadata": {},
   "outputs": [],
   "source": [
    "df_ = df.copy()\n",
    "df_.drop(columns=['강수량(mm)', '강설량(mm)', '적설량(cm)', '풍향'], inplace=True)"
   ]
  },
  {
   "cell_type": "code",
   "execution_count": 395,
   "id": "b9777d5e-3256-410c-b7e6-b96fcbb5a7d1",
   "metadata": {},
   "outputs": [],
   "source": [
    "trainx, testx, trainy, testy = train_test_split(df_.iloc[:,1:-1], df_['TARGET'], random_state=42)"
   ]
  },
  {
   "cell_type": "code",
   "execution_count": 18,
   "id": "e008f554-9952-418c-b80d-ff9b869f488b",
   "metadata": {},
   "outputs": [
    {
     "name": "stderr",
     "output_type": "stream",
     "text": [
      "<timed exec>:2: DataConversionWarning: A column-vector y was passed when a 1d array was expected. Please change the shape of y to (n_samples,), for example using ravel().\n"
     ]
    },
    {
     "name": "stdout",
     "output_type": "stream",
     "text": [
      "0.5218936593687802\n",
      "0.49135115791302236\n",
      "CPU times: total: 11.1 s\n",
      "Wall time: 11.1 s\n"
     ]
    }
   ],
   "source": [
    "%%time\n",
    "rf = RandomForestClassifier(criterion='gini', random_state=42)\n",
    "rf.fit(trainx, trainy)\n",
    "print(rf.score(testx, testy))\n",
    "pred = rf.predict(testx)\n",
    "print(f1_score(testy, pred, average='macro'))"
   ]
  },
  {
   "cell_type": "code",
   "execution_count": 19,
   "id": "16b5ef54-bebf-4f1b-bdc3-db0c29b59d00",
   "metadata": {},
   "outputs": [
    {
     "name": "stderr",
     "output_type": "stream",
     "text": [
      "<timed exec>:2: DataConversionWarning: A column-vector y was passed when a 1d array was expected. Please change the shape of y to (n_samples,), for example using ravel().\n"
     ]
    },
    {
     "name": "stdout",
     "output_type": "stream",
     "text": [
      "0.5245474362619656\n",
      "0.4935094304771912\n",
      "CPU times: total: 14 s\n",
      "Wall time: 14 s\n"
     ]
    }
   ],
   "source": [
    "%%time\n",
    "rf = RandomForestClassifier(criterion='entropy', random_state=42)\n",
    "rf.fit(trainx, trainy)\n",
    "print(rf.score(testx, testy))\n",
    "pred = rf.predict(testx)\n",
    "print(f1_score(testy, pred, average='macro'))"
   ]
  },
  {
   "cell_type": "code",
   "execution_count": 20,
   "id": "ca9c5231-eae8-4ec2-91d4-2b98e9d1631e",
   "metadata": {},
   "outputs": [
    {
     "name": "stderr",
     "output_type": "stream",
     "text": [
      "D:\\anaconda3\\lib\\site-packages\\sklearn\\neighbors\\_classification.py:198: DataConversionWarning: A column-vector y was passed when a 1d array was expected. Please change the shape of y to (n_samples,), for example using ravel().\n",
      "  return self._fit(X, y)\n"
     ]
    },
    {
     "name": "stdout",
     "output_type": "stream",
     "text": [
      "0.5043123874514264\n",
      "0.4574422480451366\n",
      "CPU times: total: 4.14 s\n",
      "Wall time: 4.15 s\n"
     ]
    }
   ],
   "source": [
    "%%time\n",
    "knc = KNeighborsClassifier(n_neighbors=20, weights='uniform')\n",
    "knc.fit(trainx, trainy)\n",
    "print(knc.score(testx, testy))\n",
    "pred =knc.predict(testx)\n",
    "print(f1_score(testy, pred, average='macro'))"
   ]
  },
  {
   "cell_type": "code",
   "execution_count": 21,
   "id": "23b335b2-052d-4fe6-b73c-ced821a90737",
   "metadata": {},
   "outputs": [
    {
     "name": "stderr",
     "output_type": "stream",
     "text": [
      "D:\\anaconda3\\lib\\site-packages\\sklearn\\neighbors\\_classification.py:198: DataConversionWarning: A column-vector y was passed when a 1d array was expected. Please change the shape of y to (n_samples,), for example using ravel().\n",
      "  return self._fit(X, y)\n"
     ]
    },
    {
     "name": "stdout",
     "output_type": "stream",
     "text": [
      "0.505070609420908\n",
      "0.46859212714997894\n",
      "CPU times: total: 2.98 s\n",
      "Wall time: 2.96 s\n"
     ]
    }
   ],
   "source": [
    "%%time\n",
    "knc = KNeighborsClassifier(n_neighbors=20, weights='distance')\n",
    "knc.fit(trainx, trainy)\n",
    "print(knc.score(testx, testy))\n",
    "pred =knc.predict(testx)\n",
    "print(f1_score(testy, pred, average='macro'))"
   ]
  },
  {
   "cell_type": "code",
   "execution_count": 402,
   "id": "89e1a66e-58d5-4e60-9991-c06bedad25ac",
   "metadata": {},
   "outputs": [
    {
     "name": "stdout",
     "output_type": "stream",
     "text": [
      "0.4589138470287177\n",
      "0.15508442731250835\n",
      "0.4589138470287177\n",
      "0.15508442731250835\n",
      "CPU times: total: 37 s\n",
      "Wall time: 9.28 s\n",
      "CPU times: total: 37 s\n",
      "Wall time: 9.28 s\n"
     ]
    }
   ],
   "source": [
    "%%time\n",
    "%%time\n",
    "scaler = MinMaxScaler()\n",
    "df_[['월','요일','소관경찰서','소관지역','사건발생거리', '범죄발생지']] = scaler.fit_transform(df_[['월','요일','소관경찰서','소관지역','사건발생거리', '범죄발생지']])\n",
    "trainx, testx, trainy, testy = train_test_split(df_.iloc[:,1:-1], df_['TARGET'], random_state=42)\n",
    "\n",
    "lr = LogisticRegression(C=20, max_iter=1000)\n",
    "lr.fit(trainx, trainy)\n",
    "print(lr.score(testx, testy))\n",
    "proba = lr.predict_proba(testx)\n",
    "# decision = lr.decision_function(testx)\n",
    "# proba = softmax(decision, axis=1)\n",
    "print(f1_score(testy, pred, average='macro'))\n",
    "lr = LogisticRegression(C=20, max_iter=1000)\n",
    "lr.fit(trainx, trainy)\n",
    "print(lr.score(testx, testy))\n",
    "proba = lr.predict_proba(testx)\n",
    "# decision = lr.decision_function(testx)\n",
    "# proba = softmax(decision, axis=1)\n",
    "print(f1_score(testy, pred, average='macro'))"
   ]
  },
  {
   "cell_type": "code",
   "execution_count": 385,
   "id": "231a8793-6efc-4b3a-ad10-fe078623249d",
   "metadata": {},
   "outputs": [
    {
     "name": "stderr",
     "output_type": "stream",
     "text": [
      "C:\\Users\\ray67\\AppData\\Local\\Temp\\ipykernel_7284\\2042646859.py:14: UserWarning: Implicit dimension choice for softmax has been deprecated. Change the call to include dim=X as an argument.\n",
      "  output = self.softmax(linear2)\n"
     ]
    },
    {
     "name": "stdout",
     "output_type": "stream",
     "text": [
      "0.15508442731250835\n"
     ]
    }
   ],
   "source": [
    "class SoftmaxClassification(torch.nn.Module):\n",
    "    def __init__(self, input_size):\n",
    "        super(SoftmaxClassification, self).__init__()\n",
    "        self.input_size = input_size\n",
    "        self.linear1 = torch.nn.Linear(self.input_size, self.input_size, bias=True)\n",
    "        self.relu = torch.nn.ReLU()\n",
    "        self.linear2 = torch.nn.Linear(self.input_size, 3, bias=True)\n",
    "        self.softmax = torch.nn.Softmax()\n",
    "    \n",
    "    def forward(self, input_tensor):\n",
    "        linear1 = self.linear1(input_tensor)\n",
    "        linear1 = self.relu(linear1)\n",
    "        linear2 = self.linear2(linear1)\n",
    "        output = self.softmax(linear2)\n",
    "        return output\n",
    "    \n",
    "x_train = torch.FloatTensor(np.array(trainx))\n",
    "ytrain = torch.LongTensor(np.array(trainy))\n",
    "y_train = torch.zeros(len(ytrain), 3)\n",
    "y_train.scatter_(1, ytrain.unsqueeze(1), 1)\n",
    "\n",
    "x_test = torch.FloatTensor(np.array(testx))\n",
    "ytest = torch.LongTensor(np.array(testy))\n",
    "y_test = torch.zeros(len(ytest), 3)\n",
    "y_test.scatter_(1, ytest.unsqueeze(1), 1)\n",
    "\n",
    "sm = SoftmaxClassification(len(x_train[0]))\n",
    "epochs = 50\n",
    "optimizer = torch.optim.SGD(sm.parameters(), lr=0.01)\n",
    "\n",
    "for epoch in range(epochs+1):\n",
    "    sm.train()\n",
    "    optimizer.zero_grad()\n",
    "    train_output = sm(x_train)\n",
    "    train_loss = F.cross_entropy(train_output.squeeze(), y_train)\n",
    "    train_loss.backward()\n",
    "    optimizer.step()\n",
    "    \n",
    "sm.eval()\n",
    "output = sm(x_test)\n",
    "pred = []\n",
    "for i in range(len(output)):\n",
    "    _ = int((output[i]==max(output[i])).nonzero(as_tuple=True)[0])\n",
    "    pred.append(_)\n",
    "    \n",
    "print(f1_score(testy, pred, average='macro'))"
   ]
  }
 ],
 "metadata": {
  "kernelspec": {
   "display_name": "Python 3 (ipykernel)",
   "language": "python",
   "name": "python3"
  },
  "language_info": {
   "codemirror_mode": {
    "name": "ipython",
    "version": 3
   },
   "file_extension": ".py",
   "mimetype": "text/x-python",
   "name": "python",
   "nbconvert_exporter": "python",
   "pygments_lexer": "ipython3",
   "version": "3.9.12"
  }
 },
 "nbformat": 4,
 "nbformat_minor": 5
}
